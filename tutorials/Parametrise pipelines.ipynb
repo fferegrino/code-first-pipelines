{
 "cells": [
  {
   "cell_type": "code",
   "execution_count": null,
   "id": "f8cd7faa-cd03-4e7d-ae2a-e8e15aa0b6d4",
   "metadata": {
    "pycharm": {
     "name": "#%%\n"
    }
   },
   "outputs": [],
   "source": [
    "from cf_pipelines.ml import MLPipeline\n",
    "\n",
    "from datetime import datetime, timedelta\n",
    "import pandas as pd"
   ]
  },
  {
   "cell_type": "markdown",
   "id": "b7c65077-f48e-4fcb-a413-a3bb26d3d0ba",
   "metadata": {
    "pycharm": {
     "name": "#%% md\n"
    }
   },
   "source": [
    "# Parametrising pipelines\n",
    "\n",
    "Sometimes we want to allow parameters to customise the behaviour of our code without having to modify the code itself. To do achieve this, there are two possible options:"
   ]
  },
  {
   "cell_type": "markdown",
   "id": "0be7301b-9c12-4254-a4b6-29f30c24fa37",
   "metadata": {
    "pycharm": {
     "name": "#%% md\n"
    }
   },
   "source": [
    "## Option 1: Be explicit!\n",
    "\n",
    "Define your arguments before hand on the pipeline declaration using the `extra_args` keyword:"
   ]
  },
  {
   "cell_type": "code",
   "execution_count": null,
   "id": "a67727d0-c2d5-465a-80d5-113b83fcece2",
   "metadata": {
    "pycharm": {
     "name": "#%%\n"
    }
   },
   "outputs": [],
   "source": [
    "parametrised_pipeline = MLPipeline(\n",
    "    \"Parametrised\",\n",
    "    location=\"outputs\",\n",
    "    extra_args={\n",
    "        \"start_date\": \"2020-01-01\",  # Or get from an environment variable\n",
    "        \"end_date\": \"2021-01-01\",\n",
    "    },\n",
    ")"
   ]
  },
  {
   "cell_type": "markdown",
   "id": "6165179e-70b3-485a-88cd-398c59c7f482",
   "metadata": {
    "pycharm": {
     "name": "#%% md\n"
    }
   },
   "source": [
    "Then use said values in your functions as usual"
   ]
  },
  {
   "cell_type": "code",
   "execution_count": null,
   "id": "5ebf1d83-ea3a-4355-aa6a-4b81963d13d2",
   "metadata": {
    "pycharm": {
     "name": "#%%\n"
    }
   },
   "outputs": [],
   "source": [
    "@parametrised_pipeline.data_ingestion\n",
    "def get_data(*, start_date, end_date):\n",
    "    start_date = datetime.fromisoformat(start_date)\n",
    "    end_date = datetime.fromisoformat(end_date)\n",
    "\n",
    "    span = (end_date - start_date).days\n",
    "\n",
    "    input_data = pd.DataFrame(\n",
    "        [(start_date + timedelta(days=day), day) for day in range(span)], columns=[\"date\", \"days\"]\n",
    "    )\n",
    "\n",
    "    return {\"input_data.csv\": input_data}\n",
    "\n",
    "\n",
    "@parametrised_pipeline.data_ingestion\n",
    "def transform(*, input_data):\n",
    "    input_data[\"days_times_2\"] = input_data[\"days\"] * 2\n",
    "\n",
    "    return {\"transformed_data.csv\": input_data}"
   ]
  },
  {
   "cell_type": "code",
   "execution_count": null,
   "id": "3fc0c6e8-d500-4f95-a98f-a110f3b855b7",
   "metadata": {
    "pycharm": {
     "name": "#%%\n"
    }
   },
   "outputs": [],
   "source": [
    "results = get_data(start_date=\"2021-01-01\", end_date=\"2022-01-01\")\n",
    "results[\"input_data\"]"
   ]
  },
  {
   "cell_type": "code",
   "execution_count": null,
   "id": "0b8691f9-e6cb-4569-bda0-ddafc8e66fed",
   "metadata": {
    "pycharm": {
     "name": "#%%\n"
    }
   },
   "outputs": [],
   "source": [
    "parametrised_pipeline.run()"
   ]
  },
  {
   "cell_type": "markdown",
   "id": "92c77395-4069-415d-b0ca-4b200f91908f",
   "metadata": {
    "pycharm": {
     "name": "#%% md\n"
    }
   },
   "source": [
    "## Option 2: Environment variables\n",
    "\n",
    "Define the values as environment variables using the `CF_` prefix:"
   ]
  },
  {
   "cell_type": "code",
   "execution_count": null,
   "id": "c9ac3d5b-d05f-4da4-be05-69b8d4aa2dc5",
   "metadata": {
    "pycharm": {
     "name": "#%%\n"
    }
   },
   "outputs": [],
   "source": [
    "import os\n",
    "\n",
    "os.environ[\"CF_START_DATE\"] = \"2021-01-01\"\n",
    "os.environ[\"CF_END_DATE\"] = \"2022-01-01\""
   ]
  },
  {
   "cell_type": "code",
   "execution_count": null,
   "id": "ecdaa276-08a7-4317-ace4-f20979958857",
   "metadata": {
    "pycharm": {
     "name": "#%%\n"
    }
   },
   "outputs": [],
   "source": [
    "parametrised_pipeline = MLPipeline(\n",
    "    \"Parametrised 2\",\n",
    "    location=\"outputs_2\",\n",
    ")"
   ]
  },
  {
   "cell_type": "markdown",
   "id": "59b9610a-3afa-4244-84b2-6684da771096",
   "metadata": {
    "pycharm": {
     "name": "#%% md\n"
    }
   },
   "source": [
    "Then use said values in your functions as usual"
   ]
  },
  {
   "cell_type": "code",
   "execution_count": null,
   "id": "1bea7e5b-bec4-47db-accc-8d1722ca7932",
   "metadata": {
    "pycharm": {
     "name": "#%%\n"
    }
   },
   "outputs": [],
   "source": [
    "@parametrised_pipeline.data_ingestion\n",
    "def get_data(*, start_date, end_date):\n",
    "    start_date = datetime.fromisoformat(start_date)\n",
    "    end_date = datetime.fromisoformat(end_date)\n",
    "\n",
    "    span = (end_date - start_date).days\n",
    "\n",
    "    input_data = pd.DataFrame(\n",
    "        [(start_date + timedelta(days=day), day) for day in range(span)], columns=[\"date\", \"days\"]\n",
    "    )\n",
    "\n",
    "    return {\"input_data.csv\": input_data}\n",
    "\n",
    "\n",
    "@parametrised_pipeline.data_ingestion\n",
    "def transform(*, input_data):\n",
    "    input_data[\"days_times_2\"] = input_data[\"days\"] * 2\n",
    "\n",
    "    return {\"transformed_data.csv\": input_data}"
   ]
  },
  {
   "cell_type": "code",
   "execution_count": null,
   "id": "d8d6a5e3-2c10-4973-b93f-7fb5d4aec3f4",
   "metadata": {
    "pycharm": {
     "name": "#%%\n"
    }
   },
   "outputs": [],
   "source": [
    "parametrised_pipeline.run()"
   ]
  },
  {
   "cell_type": "markdown",
   "id": "bdb19420-2ee8-49f0-b948-318a2acaeb80",
   "metadata": {
    "pycharm": {
     "name": "#%% md\n"
    }
   },
   "source": [
    " > 🚨 Note that enviroment variables take precedence over arguments passed in the constructor"
   ]
  },
  {
   "cell_type": "code",
   "execution_count": null,
   "id": "23c49e70-be5a-4562-b381-a229cf4a1653",
   "metadata": {
    "pycharm": {
     "name": "#%%\n"
    }
   },
   "outputs": [],
   "source": []
  }
 ],
 "metadata": {
  "kernelspec": {
   "display_name": "Python 3 (ipykernel)",
   "language": "python",
   "name": "python3"
  },
  "language_info": {
   "codemirror_mode": {
    "name": "ipython",
    "version": 3
   },
   "file_extension": ".py",
   "mimetype": "text/x-python",
   "name": "python",
   "nbconvert_exporter": "python",
   "pygments_lexer": "ipython3",
   "version": "3.8.9"
  }
 },
 "nbformat": 4,
 "nbformat_minor": 5
}