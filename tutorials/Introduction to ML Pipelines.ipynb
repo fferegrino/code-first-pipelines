{
 "cells": [
  {
   "cell_type": "markdown",
   "id": "d68767eb-a3ca-4de2-b28c-d060ac2d8521",
   "metadata": {
    "pycharm": {
     "name": "#%% md\n"
    }
   },
   "source": [
    "# Machine Learning Pipelines"
   ]
  },
  {
   "cell_type": "markdown",
   "id": "68bfb624-fa91-4c87-af14-c24f766a49b1",
   "metadata": {
    "pycharm": {
     "name": "#%% md\n"
    }
   },
   "source": [
    "## Why? – Some of the common problems\n",
    "\n",
    " - Different machine learning projects look different from one another\n",
    " - No clear structure around project creation\n",
    " - Lots of boilerplate in every project: file access, connections to S3, MLflow...\n",
    " - Lots of boilerplate in every project: file access, connections to S3, MLflow...\n",
    " - No single source of truth for artifacts: S3, GitHub repo, MLflow...\n",
    " - A single SUPER POWERFUL (and complex) function does everything\n",
    " - No automated testing whatsoever – A single function just makes things worse!\n",
    " "
   ]
  },
  {
   "cell_type": "markdown",
   "id": "056683ae-b905-4291-9ed4-16fa3414ee5b",
   "metadata": {
    "pycharm": {
     "name": "#%% md\n"
    },
    "tags": []
   },
   "source": [
    "### Our problems, in code\n",
    "\n",
    "```python\n",
    "def train_model():\n",
    "    # Get data\n",
    "    d = datasets.load_iris()\n",
    "    raw_data = pd.DataFrame(d[\"data\"])\n",
    "    raw_data.columns = d[\"feature_names\"]\n",
    "    raw_data[\"target\"] = d[\"target\"]\n",
    "    \n",
    "    # Add feature interactions\n",
    "    ft = raw_data[\"sepal length (cm)\"] * raw_data[\"sepal width (cm)\"]\n",
    "    engineered_features = pd.DataFrame({\"sepal area (cm2)\": ft})\n",
    "    \n",
    "    # Merge features into a single data frame\n",
    "    training_data = raw_data.join(engineered_features)\n",
    "    \n",
    "    # Split data\n",
    "    x = training_data.drop(\"target\", axis=\"columns\")\n",
    "    y = training_data[[\"target\"]]\n",
    "    train_x, test_x, train_y, test_y = train_test_split(x, y, test_size=0.33, random_state=42)\n",
    "    \n",
    "    # Model training\n",
    "    clf = RandomForestClassifier()\n",
    "    clf.fit(train_x, train_y[\"target\"])\n",
    "    mlflow.log_params(clf.get_params())\n",
    "    y_pred = clf.predict(train_x)\n",
    "    training_accuracy = accuracy_score(train_y, y_pred)\n",
    "    mlflow.log_metric('training_accuracy', training_accuracy)\n",
    "    \n",
    "    # Model testing\n",
    "    y_pred = model.predict(test_x)\n",
    "    fig = plt.figure(figsize=(5, 5))\n",
    "    ax = fig.gca()\n",
    "    ConfusionMatrixDisplay.from_estimator(model, test_x, test_y, ax=ax)\n",
    "    testing_accuracy = accuracy_score(test_y, y_pred)\n",
    "    mlflow.log_metric('testing_accuracy', testing_accuracy)\n",
    "    \n",
    "if __name__ == '__main__':\n",
    "    train_model()\n",
    "```"
   ]
  },
  {
   "cell_type": "markdown",
   "id": "aab2260d-3071-44a9-91d8-3a3a86fcfe96",
   "metadata": {
    "pycharm": {
     "name": "#%% md\n"
    }
   },
   "source": [
    "## Solution: pipelines!\n",
    "\n",
    "Adopting a standardised set of steps allows for more structured, testable and automatable data science projects. With this in mind, we decided to create a framework named *Code-First Pipelines* that sits on top of *[Ploomber](https://ploomber.io/)* to support creation, maintenance and deployment of machine learning models. \n",
    "\n",
    "Following a single principle:\n",
    "\n",
    " > Effective machine learning pipelines **hide the details of the pipeline implementation and allow data science practitioners to focus on their business-specific, data science problem**. Machine learning is continuous. The more we automate the process, the more we are free to solve additional business problems. – [Data Science on AWS](https://www.oreilly.com/library/view/data-science-on/9781492079385/)\n",
    " \n",
    "The goals of *Code-First Pipelines* are:\n",
    "\n",
    " - Make it easy to navigate across all our projects by having the same structure\n",
    " - Reduce friction between scientists and engineers, remember: we follow a code structure \n",
    " - Handle all the red-tape (connections, error handling, artifact management...) away from the data scientist\n",
    " - Encourage the creation of small, testable functions\n",
    " - Version artifacts automatically"
   ]
  },
  {
   "cell_type": "markdown",
   "id": "da249f4a-a90e-4eb0-92f5-98964fc98420",
   "metadata": {
    "pycharm": {
     "name": "#%% md\n"
    }
   },
   "source": [
    "## A pipeline\n",
    "\n",
    "We understand a generalised machine learning pipeline as being comprised of several conceptual steps:\n",
    "\n",
    "Where each step can be further decomposed into several functions for the purposes of code modularity and testing."
   ]
  },
  {
   "cell_type": "markdown",
   "id": "a0246db9-7782-4cf7-a278-1d3c95061882",
   "metadata": {
    "pycharm": {
     "name": "#%% md\n"
    }
   },
   "source": [
    "## Classifying flowers – classic"
   ]
  },
  {
   "cell_type": "code",
   "execution_count": 1,
   "id": "b3d4c7a7-427a-47f7-8573-2b9df16d16eb",
   "metadata": {
    "pycharm": {
     "name": "#%%\n"
    }
   },
   "outputs": [],
   "source": [
    "# Standard imports for the example\n",
    "\n",
    "import pandas as pd\n",
    "from sklearn import datasets\n",
    "from sklearn.ensemble import RandomForestClassifier\n",
    "from sklearn.model_selection import train_test_split\n",
    "from sklearn.metrics import accuracy_score\n",
    "from sklearn.metrics import ConfusionMatrixDisplay\n",
    "import matplotlib.pyplot as plt"
   ]
  },
  {
   "cell_type": "code",
   "execution_count": 2,
   "id": "b52037f3-b490-401b-9954-41b21a60803b",
   "metadata": {
    "pycharm": {
     "name": "#%%\n"
    }
   },
   "outputs": [],
   "source": [
    "# !rm -rf outputs mlruns"
   ]
  },
  {
   "cell_type": "markdown",
   "id": "7833a306-e38a-4b95-b8fc-ace5ccd058e8",
   "metadata": {
    "pycharm": {
     "name": "#%% md\n"
    }
   },
   "source": [
    "### Pipeline\n",
    "\n",
    "We need to import the class `MLPipeline` from the `cf_pipelines.ml` module:"
   ]
  },
  {
   "cell_type": "code",
   "execution_count": 3,
   "id": "5b171fd7-3650-4203-87ac-b5849c21f125",
   "metadata": {
    "pycharm": {
     "name": "#%%\n"
    }
   },
   "outputs": [],
   "source": [
    "from cf_pipelines.ml import MLPipeline"
   ]
  },
  {
   "cell_type": "markdown",
   "id": "5f189555-405a-4b86-a2e4-3566f46d5cd7",
   "metadata": {
    "pycharm": {
     "name": "#%% md\n"
    }
   },
   "source": [
    "A pipeline has a name – ideally the name of the project and a location. If you don't provide one, a temporary one will be selected fot you."
   ]
  },
  {
   "cell_type": "code",
   "execution_count": 4,
   "id": "7f610834-1653-4713-8cd5-bef9c0532abb",
   "metadata": {
    "pycharm": {
     "name": "#%%\n"
    }
   },
   "outputs": [],
   "source": [
    "iris_pipeline = MLPipeline(\"Iris pipeline\", location='outputs')"
   ]
  },
  {
   "cell_type": "markdown",
   "id": "2a4584fc-cbd7-4a01-a96c-544460156b8c",
   "metadata": {
    "pycharm": {
     "name": "#%% md\n"
    }
   },
   "source": [
    "## Steps"
   ]
  },
  {
   "cell_type": "markdown",
   "id": "95209b12-e0cc-4d5c-ac70-f9db246b7489",
   "metadata": {
    "pycharm": {
     "name": "#%% md\n"
    }
   },
   "source": [
    "### First step – data ingestion"
   ]
  },
  {
   "cell_type": "markdown",
   "id": "aec3d76d-94d1-4520-b0ab-63d9e05a605e",
   "metadata": {
    "pycharm": {
     "name": "#%% md\n"
    }
   },
   "source": [
    "As mentioned early, a pipeline is comprised of conceptual steps, and each step can have many functions – it can be just one, though. \n",
    "\n",
    "To include a function as part of the pipeline you must use the corresponding decorator to the function. For example, I have selected *\"data_ingestion\"* since I am geting that task:"
   ]
  },
  {
   "cell_type": "code",
   "execution_count": 5,
   "id": "2b84c464-40e0-4a3a-ad57-9328d18f8097",
   "metadata": {
    "pycharm": {
     "name": "#%%\n"
    }
   },
   "outputs": [],
   "source": [
    "@iris_pipeline.data_ingestion\n",
    "def get_data():\n",
    "    d = datasets.load_iris()\n",
    "    df = pd.DataFrame(d[\"data\"])\n",
    "    df.columns = d[\"feature_names\"]\n",
    "    df[\"target\"] = d[\"target\"]\n",
    "    return {\"raw_data.csv\": df}"
   ]
  },
  {
   "cell_type": "markdown",
   "id": "f877efc6-ca8a-4814-807c-d53300da417b",
   "metadata": {
    "pycharm": {
     "name": "#%% md\n"
    }
   },
   "source": [
    "A step function can contain any Python code, but an important requisite is that it has to return a dictionary with at least one key-value pair:\n",
    "\n",
    " - The **key** can be any valid Python identifier (a combination of letters in lowercase or uppercase, digits and underscores), like \"raw_data\" followed by a file extension, like \".csv\"\n",
    " - The **value** that should be associated with the key\n",
    " \n",
    "These key value pairs are what we will know as a **product**.\n",
    "\n",
    "The products a function returns will be available for each subsequent step within the pipeline.\n",
    "\n",
    "#### Why do we need a file extension?\n",
    "\n",
    "The extension will determine how the product is persisted on disk. Yes! the pipelines store a copy of each product ensuring there is full reproducibility and data provenance. And at the same time, a copy is persisted for tracking purposes to MLflow – all for free."
   ]
  },
  {
   "cell_type": "markdown",
   "id": "545a1753-fd7a-485c-a954-cf5fc1cc6d81",
   "metadata": {
    "pycharm": {
     "name": "#%% md\n"
    }
   },
   "source": [
    "### A second step – feature engineering\n",
    "\n",
    "Say I have a step that depends on a product generated by a previous step. In order for me to access it I would need to add it as a named argument for the function that needs it. For example, in the function below I want to use a dataframe from the previous step, I specify `raw_data` as a named argument, and then treat its value as I would do with any other dataframe. \n",
    "\n",
    " > 🚨 Named arguments should appear after a single asterisk `*` in the function arguments)"
   ]
  },
  {
   "cell_type": "code",
   "execution_count": 6,
   "id": "5c270d2c-6dc6-4668-b84a-7ed42049b207",
   "metadata": {
    "pycharm": {
     "name": "#%%\n"
    }
   },
   "outputs": [],
   "source": [
    "@iris_pipeline.feature_engineering\n",
    "def create_feature_interactions(*, raw_data):\n",
    "    ft = raw_data[\"sepal length (cm)\"] * raw_data[\"sepal width (cm)\"]\n",
    "    df = pd.DataFrame({\"sepal area (cm2)\": ft})\n",
    "    return {\"engineered_features.parquet\": df}"
   ]
  },
  {
   "cell_type": "markdown",
   "id": "c9b8db3d-3cc2-484a-bf12-8291729ff1c6",
   "metadata": {
    "pycharm": {
     "name": "#%% md\n"
    }
   },
   "source": [
    "¿See?, I am returning yet another product with a different file extension and it will be stored and available for me to consume in the next steps."
   ]
  },
  {
   "cell_type": "markdown",
   "id": "6959d23d-230e-4ddd-85fe-3790058457c3",
   "metadata": {
    "pycharm": {
     "name": "#%% md\n"
    }
   },
   "source": [
    "### More steps – more feature engineering\n",
    "\n",
    "In the next steps I want to demonstrate a two things:\n",
    "\n",
    " - A step function can consume the products generated by any other previous functions, not necessarily only the previous one, in the function below I am using both `raw_data` and `engineered_features`\n",
    " - A step function can generate more than one product"
   ]
  },
  {
   "cell_type": "code",
   "execution_count": 7,
   "id": "49c59246-ca8d-48f4-84f2-9406b11954cd",
   "metadata": {
    "pycharm": {
     "name": "#%%\n"
    }
   },
   "outputs": [],
   "source": [
    "@iris_pipeline.feature_engineering\n",
    "def join_features(*, raw_data, engineered_features):\n",
    "    training_data = raw_data.join(engineered_features)\n",
    "    return {\"training_data.csv\":training_data}\n",
    "    \n",
    "\n",
    "@iris_pipeline.feature_engineering    \n",
    "def create_splits(*, training_data):\n",
    "\n",
    "    x = training_data.drop(\"target\", axis=\"columns\")\n",
    "    y = training_data[[\"target\"]]\n",
    "    \n",
    "    x_train, x_test, y_train, y_test = train_test_split(x, y, test_size=0.33, random_state=42)\n",
    "\n",
    "    return {\n",
    "        \"train_x.csv\": x_train,\n",
    "        \"test_x.csv\": x_test,\n",
    "        \"train_y.csv\": y_train,\n",
    "        \"test_y.csv\": y_test,\n",
    "    }"
   ]
  },
  {
   "cell_type": "markdown",
   "id": "cfc4c4a6-f24a-4874-965d-09e72bdf9ef8",
   "metadata": {
    "pycharm": {
     "name": "#%% md\n"
    }
   },
   "source": [
    "## Training and testing a model\n",
    "\n",
    "But what if we want to save some parameters to MLflow, to keep track of our experiment runs?\n",
    "\n",
    "The `MLPipeline` offers a way for you to interact directly with *MLflow*. To use it it is enough to add `mlflow` as an argument to the function:"
   ]
  },
  {
   "cell_type": "code",
   "execution_count": 8,
   "id": "a2e7a392-0fb6-44d3-b04b-844201ecddfa",
   "metadata": {
    "pycharm": {
     "name": "#%%\n"
    }
   },
   "outputs": [],
   "source": [
    "@iris_pipeline.model_training\n",
    "def model_training(*, train_x, train_y, mlflow):\n",
    "    clf = RandomForestClassifier()\n",
    "    clf.fit(train_x, train_y[\"target\"])\n",
    "\n",
    "    mlflow.log_params(clf.get_params())\n",
    "\n",
    "    y_pred = clf.predict(train_x)\n",
    "    training_accuracy = accuracy_score(train_y, y_pred)\n",
    "\n",
    "    mlflow.log_metric('training_accuracy', training_accuracy)\n",
    "\n",
    "    return {\"model\": clf}"
   ]
  },
  {
   "cell_type": "markdown",
   "id": "cdb86a76-40be-40a3-9dd1-45181b05a9b1",
   "metadata": {
    "pycharm": {
     "name": "#%% md\n"
    }
   },
   "source": [
    "As you can see, the above product does not specify an extension, which means the product will be persisted using the pickle module. This may bot be the best way to store something on disk, so my recommendation is that you always try to specify an extension."
   ]
  },
  {
   "cell_type": "code",
   "execution_count": 9,
   "id": "9ee18d6e-2320-4b0f-a017-b14b24c047dc",
   "metadata": {
    "pycharm": {
     "name": "#%%\n"
    }
   },
   "outputs": [],
   "source": [
    "@iris_pipeline.model_testing\n",
    "def test_my_model(*, test_x, test_y, model, mlflow):\n",
    "    y_pred = model.predict(test_x)\n",
    "    fig = plt.figure(figsize=(5, 5))\n",
    "    ax = fig.gca()\n",
    "    ConfusionMatrixDisplay.from_estimator(model, test_x, test_y, ax=ax)\n",
    "    testing_accuracy = accuracy_score(test_y, y_pred)\n",
    "    mlflow.log_metric('testing_accuracy', testing_accuracy)\n",
    "    return {\"matrix.png\": fig}"
   ]
  },
  {
   "cell_type": "markdown",
   "id": "ae317105-e94c-4f97-97b3-1199e2202caa",
   "metadata": {
    "pycharm": {
     "name": "#%% md\n"
    }
   },
   "source": [
    "## Look at what you just made\n",
    "\n",
    "You will need to install GraphViz"
   ]
  },
  {
   "cell_type": "code",
   "execution_count": 10,
   "id": "37b25beb-d962-42d4-9da3-771721ac8d72",
   "metadata": {
    "pycharm": {
     "name": "#%%\n"
    }
   },
   "outputs": [
    {
     "ename": "ImportError",
     "evalue": "You need to install pygraphviz",
     "output_type": "error",
     "traceback": [
      "\u001B[0;31m---------------------------------------------------------------------------\u001B[0m",
      "\u001B[0;31mImportError\u001B[0m                               Traceback (most recent call last)",
      "\u001B[0;32m/var/folders/26/kknv0qdn23x8cn86y7p06j4r0000gp/T/ipykernel_27327/1566689931.py\u001B[0m in \u001B[0;36m<cell line: 1>\u001B[0;34m()\u001B[0m\n\u001B[0;32m----> 1\u001B[0;31m \u001B[0miris_pipeline\u001B[0m\u001B[0;34m.\u001B[0m\u001B[0mdraw\u001B[0m\u001B[0;34m(\u001B[0m\u001B[0msize\u001B[0m\u001B[0;34m=\u001B[0m\u001B[0;34m\"10,4\"\u001B[0m\u001B[0;34m)\u001B[0m\u001B[0;34m\u001B[0m\u001B[0;34m\u001B[0m\u001B[0m\n\u001B[0m",
      "\u001B[0;32m~/hub/code-first-pipelines/cf_pipelines/ml/ml_pipeline.py\u001B[0m in \u001B[0;36mdraw\u001B[0;34m(self, **kwargs)\u001B[0m\n\u001B[1;32m    109\u001B[0m \u001B[0;34m\u001B[0m\u001B[0m\n\u001B[1;32m    110\u001B[0m     \u001B[0;32mdef\u001B[0m \u001B[0mdraw\u001B[0m\u001B[0;34m(\u001B[0m\u001B[0mself\u001B[0m\u001B[0;34m,\u001B[0m \u001B[0;34m**\u001B[0m\u001B[0mkwargs\u001B[0m\u001B[0;34m)\u001B[0m\u001B[0;34m:\u001B[0m\u001B[0;34m\u001B[0m\u001B[0;34m\u001B[0m\u001B[0m\n\u001B[0;32m--> 111\u001B[0;31m         \u001B[0;32mreturn\u001B[0m \u001B[0mdraw_utils\u001B[0m\u001B[0;34m(\u001B[0m\u001B[0mself\u001B[0m\u001B[0;34m,\u001B[0m \u001B[0;34m**\u001B[0m\u001B[0mkwargs\u001B[0m\u001B[0;34m)\u001B[0m\u001B[0;34m\u001B[0m\u001B[0;34m\u001B[0m\u001B[0m\n\u001B[0m\u001B[1;32m    112\u001B[0m \u001B[0;34m\u001B[0m\u001B[0m\n\u001B[1;32m    113\u001B[0m     \u001B[0;32mdef\u001B[0m \u001B[0mrun\u001B[0m\u001B[0;34m(\u001B[0m\u001B[0mself\u001B[0m\u001B[0;34m,\u001B[0m \u001B[0mforce\u001B[0m\u001B[0;34m=\u001B[0m\u001B[0;32mFalse\u001B[0m\u001B[0;34m)\u001B[0m \u001B[0;34m->\u001B[0m \u001B[0;32mNone\u001B[0m\u001B[0;34m:\u001B[0m\u001B[0;34m\u001B[0m\u001B[0;34m\u001B[0m\u001B[0m\n",
      "\u001B[0;32m~/hub/code-first-pipelines/cf_pipelines/ml/drawing_utils.py\u001B[0m in \u001B[0;36mdraw\u001B[0;34m(graph, **kwargs)\u001B[0m\n\u001B[1;32m     99\u001B[0m \u001B[0;32mdef\u001B[0m \u001B[0mdraw\u001B[0m\u001B[0;34m(\u001B[0m\u001B[0mgraph\u001B[0m\u001B[0;34m,\u001B[0m \u001B[0;34m**\u001B[0m\u001B[0mkwargs\u001B[0m\u001B[0;34m)\u001B[0m\u001B[0;34m:\u001B[0m\u001B[0;34m\u001B[0m\u001B[0;34m\u001B[0m\u001B[0m\n\u001B[1;32m    100\u001B[0m     \u001B[0;32mif\u001B[0m \u001B[0;32mnot\u001B[0m \u001B[0m_has_graphviz\u001B[0m\u001B[0;34m:\u001B[0m\u001B[0;34m\u001B[0m\u001B[0;34m\u001B[0m\u001B[0m\n\u001B[0;32m--> 101\u001B[0;31m         \u001B[0;32mraise\u001B[0m \u001B[0mImportError\u001B[0m\u001B[0;34m(\u001B[0m\u001B[0;34m\"You need to install pygraphviz\"\u001B[0m\u001B[0;34m)\u001B[0m\u001B[0;34m\u001B[0m\u001B[0;34m\u001B[0m\u001B[0m\n\u001B[0m\u001B[1;32m    102\u001B[0m     \u001B[0mgraphviz_string\u001B[0m \u001B[0;34m=\u001B[0m \u001B[0m_generate_graphviz_string\u001B[0m\u001B[0;34m(\u001B[0m\u001B[0mgraph\u001B[0m\u001B[0;34m)\u001B[0m\u001B[0;34m\u001B[0m\u001B[0;34m\u001B[0m\u001B[0m\n\u001B[1;32m    103\u001B[0m     \u001B[0mgraph\u001B[0m \u001B[0;34m=\u001B[0m \u001B[0mpgv\u001B[0m\u001B[0;34m.\u001B[0m\u001B[0mAGraph\u001B[0m\u001B[0;34m(\u001B[0m\u001B[0mgraphviz_string\u001B[0m\u001B[0;34m)\u001B[0m\u001B[0;34m\u001B[0m\u001B[0;34m\u001B[0m\u001B[0m\n",
      "\u001B[0;31mImportError\u001B[0m: You need to install pygraphviz"
     ]
    }
   ],
   "source": [
    "iris_pipeline.draw(size=\"10,4\")"
   ]
  },
  {
   "cell_type": "markdown",
   "id": "aaa13332-f55e-4379-b169-029417bc53b3",
   "metadata": {
    "pycharm": {
     "name": "#%% md\n"
    }
   },
   "source": [
    "## Run the pipeline\n",
    "\n",
    "Finally, we can execute the pipeline by using its `run` method."
   ]
  },
  {
   "cell_type": "code",
   "execution_count": 11,
   "id": "726fed8e-9407-4536-bdc6-aa59817d383c",
   "metadata": {
    "pycharm": {
     "name": "#%%\n"
    }
   },
   "outputs": [
    {
     "name": "stderr",
     "output_type": "stream",
     "text": [
      "2022/09/08 09:42:13 INFO mlflow.tracking.fluent: Experiment with name 'Iris pipeline' does not exist. Creating a new experiment.\n"
     ]
    },
    {
     "data": {
      "application/vnd.jupyter.widget-view+json": {
       "model_id": "4508afe787f240fcaa4f87bccf4f6830",
       "version_major": 2,
       "version_minor": 0
      },
      "text/plain": [
       "  0%|          | 0/6 [00:00<?, ?it/s]"
      ]
     },
     "metadata": {},
     "output_type": "display_data"
    },
    {
     "data": {
      "image/png": "[encoded data removed]",
      "text/plain": [
       "<Figure size 500x500 with 2 Axes>"
      ]
     },
     "metadata": {},
     "output_type": "display_data"
    }
   ],
   "source": [
    "iris_pipeline.run()"
   ]
  },
  {
   "cell_type": "markdown",
   "id": "0e1d4e54-7c56-4e8e-91c1-7ccdc1431bdf",
   "metadata": {
    "pycharm": {
     "name": "#%% md\n"
    }
   },
   "source": [
    "## What else do you get for *FREE*?\n",
    "\n",
    " - All artifacts are uploaded to MLflow automatically\n",
    "   - Everything is versioned\n",
    "   - There is a uniform structure\n",
    " - Functions can be tested and executed individually\n",
    " - Complete focus on your data science code\n",
    "   - No dealing with reading/writing data to disk"
   ]
  },
  {
   "cell_type": "markdown",
   "id": "cbe44efc-c658-45e8-9e99-581da311a902",
   "metadata": {
    "pycharm": {
     "name": "#%% md\n"
    }
   },
   "source": [
    "## Reviewing the outputs"
   ]
  },
  {
   "cell_type": "code",
   "execution_count": null,
   "id": "163c96a9-1fee-4768-966c-507e75f9efd3",
   "metadata": {
    "pycharm": {
     "name": "#%%\n"
    }
   },
   "outputs": [],
   "source": [
    "!tree outputs"
   ]
  },
  {
   "cell_type": "code",
   "execution_count": null,
   "id": "5ac26cd0-17a9-4ee9-b0cc-efda9b1df824",
   "metadata": {
    "pycharm": {
     "name": "#%%\n"
    }
   },
   "outputs": [],
   "source": [
    "!head outputs/default/feature_engineering/test_x.csv"
   ]
  },
  {
   "cell_type": "markdown",
   "id": "1238ae10-b20b-4a92-b14f-d354c0e1b07e",
   "metadata": {
    "pycharm": {
     "name": "#%% md\n"
    }
   },
   "source": [
    "### Making predictions with the trained model"
   ]
  },
  {
   "cell_type": "code",
   "execution_count": null,
   "id": "c839b2a1-06d4-49fe-ab17-3c75cd1d8d50",
   "metadata": {
    "pycharm": {
     "name": "#%%\n"
    }
   },
   "outputs": [],
   "source": [
    "import pickle\n",
    "\n",
    "with open(\"outputs/default/model_training/model\", \"rb\") as rb:\n",
    "    classifier = pickle.load(rb)"
   ]
  },
  {
   "cell_type": "code",
   "execution_count": null,
   "id": "ef8c9437-4120-4dff-8508-614385e8551a",
   "metadata": {
    "pycharm": {
     "name": "#%%\n"
    }
   },
   "outputs": [],
   "source": [
    "new_instance = {\n",
    "    \"sepal length (cm)\": 6.0,\n",
    "    \"sepal width (cm)\": 3.1,\n",
    "    \"petal length (cm)\": 3.8,\n",
    "    \"petal width (cm)\": 0.5,\n",
    "    \"sepal area (cm2)\": 18.6,\n",
    "}\n",
    "instance = pd.DataFrame([new_instance])"
   ]
  },
  {
   "cell_type": "code",
   "execution_count": null,
   "id": "39cb0652-4632-4ad0-a8e1-dd69047ca45c",
   "metadata": {
    "pycharm": {
     "name": "#%%\n"
    }
   },
   "outputs": [],
   "source": [
    "classifier.predict(instance)"
   ]
  },
  {
   "cell_type": "markdown",
   "id": "c5313cc4-d851-45dc-91fb-ab65a26b0023",
   "metadata": {
    "pycharm": {
     "name": "#%% md\n"
    }
   },
   "source": [
    "## Testing the functions individually  "
   ]
  },
  {
   "cell_type": "code",
   "execution_count": null,
   "id": "84f64bfc-57e8-4e81-84e7-3c7b789a274a",
   "metadata": {
    "pycharm": {
     "name": "#%%\n"
    }
   },
   "outputs": [],
   "source": [
    "input_data = pd.DataFrame({'sepal length (cm)': [1, 2], 'sepal width (cm)': [3, 4]})\n",
    "input_data.head()"
   ]
  },
  {
   "cell_type": "code",
   "execution_count": null,
   "id": "cdadc469-c1cd-4762-ada8-06c726ad1666",
   "metadata": {
    "pycharm": {
     "name": "#%%\n"
    }
   },
   "outputs": [],
   "source": [
    "expected = pd.DataFrame({'sepal area (cm2)':[3, 8]})\n",
    "expected.head()"
   ]
  },
  {
   "cell_type": "code",
   "execution_count": null,
   "id": "a38ec146-3c2d-4028-892d-f8ad9075ca79",
   "metadata": {
    "pycharm": {
     "name": "#%%\n"
    }
   },
   "outputs": [],
   "source": [
    "results = create_feature_interactions(raw_data=input_data)\n",
    "engineered_features = results['engineered_features']\n",
    "engineered_features.head()"
   ]
  },
  {
   "cell_type": "code",
   "execution_count": null,
   "id": "d8009f23-0a2e-447e-b74f-bb4a37953e18",
   "metadata": {
    "pycharm": {
     "name": "#%%\n"
    }
   },
   "outputs": [],
   "source": [
    "pd.testing.assert_frame_equal(expected, engineered_features)"
   ]
  },
  {
   "cell_type": "markdown",
   "id": "9f1a7db0",
   "metadata": {
    "pycharm": {
     "name": "#%% md\n"
    }
   },
   "source": [
    "## What else do you get for *FREE*?\n",
    "\n",
    " - All artifacts are uploaded to MLflow automatically\n",
    "   - Everything is versioned\n",
    "   - There is a uniform structure\n",
    " - Functions can be tested and executed individually\n",
    " - Complete focus on your data science code\n",
    "   - No dealing with reading/writing data to disk"
   ]
  },
  {
   "cell_type": "markdown",
   "id": "acaad6ca-23d8-4e84-a951-fffe98fed360",
   "metadata": {
    "pycharm": {
     "name": "#%% md\n"
    }
   },
   "source": [
    "## What is next?\n",
    "\n",
    " - Make it available in the SBML image on SageMaker Studio\n",
    " - Automate a project template creation\n",
    " - Include error handling\n",
    " - Include metric reporting to NewRelic\n",
    " - Get your feedback!\n",
    " "
   ]
  },
  {
   "cell_type": "code",
   "execution_count": null,
   "id": "904eaf8e-ceb0-490f-8e40-bfc15eb40440",
   "metadata": {
    "pycharm": {
     "name": "#%%\n"
    }
   },
   "outputs": [],
   "source": []
  }
 ],
 "metadata": {
  "kernelspec": {
   "display_name": "Python 3 (ipykernel)",
   "language": "python",
   "name": "python3"
  },
  "language_info": {
   "codemirror_mode": {
    "name": "ipython",
    "version": 3
   },
   "file_extension": ".py",
   "mimetype": "text/x-python",
   "name": "python",
   "nbconvert_exporter": "python",
   "pygments_lexer": "ipython3",
   "version": "3.8.11"
  }
 },
 "nbformat": 4,
 "nbformat_minor": 5
}